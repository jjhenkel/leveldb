{
 "cells": [
  {
   "cell_type": "code",
   "execution_count": 1,
   "metadata": {
    "tags": [],
    "vscode": {
     "end_execution_time": "2020-08-17T20:28:15.708Z",
     "start_execution_time": "2020-08-17T20:26:49.765Z"
    }
   },
   "outputs": [],
   "source": [
    "# Install our (local, for now) pip package \n",
    "!pip3 install -e /home/jjhenkel/find-tune"
   ]
  },
  {
   "cell_type": "code",
   "execution_count": 1,
   "metadata": {
    "tags": [],
    "vscode": {
     "end_execution_time": "2020-08-21T16:38:45.943Z",
     "start_execution_time": "2020-08-21T16:38:40.243Z"
    }
   },
   "outputs": [
    {
     "name": "stderr",
     "output_type": "stream",
     "text": [
      "- Verifying environment...\n",
      "   ✓ Environment verification complete\n",
      "- Creating project from current git repository...\n",
      "   - Getting project name: \n",
      "      ✓ project-name:='https://github.com/jjhenkel/leveldb'\n",
      "   - Getting project commit hash: \n",
      "      ✓ project-commit:='23238a40ab67edb0dc10314c28d37b8a604d14f1'\n",
      "- Ensuring infrastructure is allocated...\n",
      "\u001b[K   ✓ Found resource group 'FindTune-EUS'\n",
      "\u001b[K   ✓ Using existing vnet: 'findtune-az-autogen-vnet-801663' (['10.0.0.0/16'])\n",
      "   ✓ Using existing subnet: 'findtune-az-autogen-subnet-806943' (10.0.0.0/24)\n",
      "\u001b[K   ✓ Using existing ip: 'findtune-az-autogen-ip-ft-db-211043' (52.226.50.179)\n",
      "   ✓ Using existing vm: 'findtune-az-autogen-vm-ft-db-500381'\n",
      "- Attaching...\n",
      "\u001b[K   ✓ 'findtune-az-autogen-vm-ft-db-500381' is running!\n",
      "\u001b[K   ✓ Skipping DB create. Database 'targets-leveldb' already exists!\n",
      "   ✓ Attached. Ready to run queries\n"
     ]
    },
    {
     "data": {
      "text/html": "<div class=\"findtune\" style=\"display: none;\">{\"POSTGRES_HOST\": \"52.226.50.179\", \"POSTGRES_USER\": \"ft-admin\", \"POSTGRES_PASSWORD\": \"vie0thahnahpheKe\", \"POSTGRES_DB\": \"targets-leveldb\"}</div>",
      "text/plain": "<IPython.core.display.HTML object>"
     },
     "metadata": {},
     "output_type": "display_data"
    }
   ],
   "source": [
    "import mlos\r\n",
    "\r\n",
    "OVERRIDE_PLUGIN='/home/jjhenkel/mount/velveeta/find-tune/frontends/clang/src/libDumpDatalog.so'\r\n",
    "\r\n",
    "mlos.set_project_dir('/home/jjhenkel/leveldb/.mlos')\r\n",
    "mlos.checkenv(using_azure=True)\r\n",
    "\r\n",
    "project = (\r\n",
    "    mlos\r\n",
    "    .create_project_from_git_info()\r\n",
    "    .with_backend(mlos.backends().azure())\r\n",
    "    .with_build_options(\r\n",
    "        mlos.build_options().override_plugin(OVERRIDE_PLUGIN)\r\n",
    "    )\r\n",
    ")\r\n",
    "\r\n",
    "project.attach()"
   ]
  },
  {
   "cell_type": "code",
   "execution_count": 2,
   "metadata": {
    "tags": [],
    "vscode": {
     "end_execution_time": "2020-08-19T18:52:07.889Z",
     "start_execution_time": "2020-08-19T18:51:32.479Z"
    }
   },
   "outputs": [
    {
     "name": "stderr",
     "output_type": "stream",
     "text": [
      "- Preparing target docker image...\n",
      "   ✓ Overriding plugin with '/home/jjhenkel/mount/velveeta/find-tune/frontends/clang/src/libDumpDatalog.so'\n",
      "   - Building image findtune/mlos-target:1454924aacba2ea3cdf183bbed512566a600b05a...\n",
      "\u001b[K      ✓ Image build complete!\n",
      "\u001b[K      ✓ Push complete!\n",
      "\u001b[K   ✓ Override cleanup complete!\n",
      "- Running remote build...\n",
      "\u001b[K   ✓ Build started! Use poll_status() to watch build progress.\n",
      "\u001b[K"
     ]
    }
   ],
   "source": [
    "# Remotely builds + ingests this code for analysis\n",
    "project.ingest()"
   ]
  },
  {
   "cell_type": "code",
   "execution_count": 3,
   "metadata": {
    "tags": [],
    "vscode": {
     "end_execution_time": "2020-08-19T20:18:52.006Z",
     "start_execution_time": "2020-08-19T18:54:38.666Z"
    }
   },
   "outputs": [
    {
     "name": "stdout",
     "output_type": "stream",
     "text": [
      "\u001b[K\u001b[34m✓ Build container finished --- waiting for completed sessions backlog to clear.\u001b[0m \n",
      "\u001b[K\u001b[34m✓ Completed sessions backlog cleared --- waiting for embeddings to be computed.\u001b[0m \n",
      "\u001b[K\u001b[34m✓ Ingest complete! Use project.detach(keep_db=True) and/or project.deallocate(keep_db=True) to cleanup build & gpu VMs.\u001b[0m \n"
     ]
    }
   ],
   "source": [
    "project.poll_status()"
   ]
  },
  {
   "cell_type": "code",
   "execution_count": 4,
   "metadata": {
    "tags": [],
    "vscode": {
     "end_execution_time": "2020-08-19T20:20:00.504Z",
     "start_execution_time": "2020-08-19T20:18:58.768Z"
    }
   },
   "outputs": [
    {
     "name": "stderr",
     "output_type": "stream",
     "text": [
      "- Detaching...\n",
      "\u001b[K   ✓ 'findtune-az-autogen-vm-ft-embed-649821' is stopped!\n",
      "\u001b[K   ✓ 'findtune-az-autogen-vm-ft-build-172657' is stopped!\n",
      "   ✓ Detached. DB VM still attached. Call project.detach(keep_db=False) to detach.\n",
      "\u001b[K"
     ]
    }
   ],
   "source": [
    "project.detach(keep_db=True)"
   ]
  },
  {
   "cell_type": "code",
   "execution_count": 2,
   "metadata": {
    "tags": [],
    "vscode": {
     "end_execution_time": "2020-08-20T21:22:51.399Z",
     "start_execution_time": "2020-08-20T21:22:36.935Z"
    }
   },
   "outputs": [
    {
     "data": {
      "text/html": "<div class=\"findtune\" style=\"display: none;\">[{\"similarity\": 99.99992276968257, \"clang_source_range_as_text\": \"mutex_.Lock()\", \"start_line\": 1236, \"start_column\": 7, \"end_line\": 1236, \"end_column\": 19, \"file\": \"db/db_impl.cc\", \"label\": \"mutex_.Lock()\"}, {\"similarity\": 99.99992276968257, \"clang_source_range_as_text\": \"mutex_.Lock()\", \"start_line\": 154, \"start_column\": 3, \"end_line\": 154, \"end_column\": 15, \"file\": \"db/db_impl.cc\", \"label\": \"mutex_.Lock()\"}, {\"similarity\": 99.99992276968257, \"clang_source_range_as_text\": \"mutex_.Lock()\", \"start_line\": 1075, \"start_column\": 3, \"end_line\": 1075, \"end_column\": 15, \"file\": \"db/db_impl.cc\", \"label\": \"mutex_.Lock()\"}, {\"similarity\": 99.99992276968257, \"clang_source_range_as_text\": \"state->mu->Lock()\", \"start_line\": 1062, \"start_column\": 3, \"end_line\": 1062, \"end_column\": 19, \"file\": \"db/db_impl.cc\", \"label\": \"state->mu->Lock()\"}, {\"similarity\": 99.99992276968257, \"clang_source_range_as_text\": \"mutex_.Lock()\", \"start_line\": 1341, \"start_column\": 7, \"end_line\": 1341, \"end_column\": 19, \"file\": \"db/db_impl.cc\", \"label\": \"mutex_.Lock()\"}, {\"similarity\": 99.99992276968257, \"clang_source_range_as_text\": \"mutex_.Lock()\", \"start_line\": 340, \"start_column\": 3, \"end_line\": 340, \"end_column\": 15, \"file\": \"db/fault_injection_test.cc\", \"label\": \"mutex_.Lock()\"}, {\"similarity\": 99.99992276968257, \"clang_source_range_as_text\": \"mutex_.Lock()\", \"start_line\": 800, \"start_column\": 5, \"end_line\": 800, \"end_column\": 17, \"file\": \"db/db_impl.cc\", \"label\": \"mutex_.Lock()\"}, {\"similarity\": 99.99992276968257, \"clang_source_range_as_text\": \"mu->Lock()\", \"start_line\": 840, \"start_column\": 5, \"end_line\": 840, \"end_column\": 14, \"file\": \"db/version_set.cc\", \"label\": \"mu->Lock()\"}, {\"similarity\": 99.99992276968257, \"clang_source_range_as_text\": \"mutex_.Lock()\", \"start_line\": 286, \"start_column\": 3, \"end_line\": 286, \"end_column\": 15, \"file\": \"db/db_impl.cc\", \"label\": \"mutex_.Lock()\"}, {\"similarity\": 99.99992276968257, \"clang_source_range_as_text\": \"mutex_.Lock()\", \"start_line\": 515, \"start_column\": 5, \"end_line\": 515, \"end_column\": 17, \"file\": \"db/db_impl.cc\", \"label\": \"mutex_.Lock()\"}, {\"similarity\": 99.99992276968257, \"clang_source_range_as_text\": \"mutex_.Lock()\", \"start_line\": 920, \"start_column\": 7, \"end_line\": 920, \"end_column\": 19, \"file\": \"db/db_impl.cc\", \"label\": \"mutex_.Lock()\"}, {\"similarity\": 99.99992276968257, \"clang_source_range_as_text\": \"mutex_.Lock()\", \"start_line\": 1034, \"start_column\": 3, \"end_line\": 1034, \"end_column\": 15, \"file\": \"db/db_impl.cc\", \"label\": \"mutex_.Lock()\"}, {\"similarity\": 99.99992276968257, \"clang_source_range_as_text\": \"mu_.Lock()\", \"start_line\": 310, \"start_column\": 5, \"end_line\": 310, \"end_column\": 14, \"file\": \"db/skiplist_test.cc\", \"label\": \"mu_.Lock()\"}, {\"similarity\": 99.99992276968257, \"clang_source_range_as_text\": \"impl->mutex_.Lock()\", \"start_line\": 1482, \"start_column\": 3, \"end_line\": 1482, \"end_column\": 21, \"file\": \"db/db_impl.cc\", \"label\": \"impl->mutex_.Lock()\"}, {\"similarity\": 99.99992276968257, \"clang_source_range_as_text\": \"mutex_.Lock()\", \"start_line\": 1145, \"start_column\": 5, \"end_line\": 1145, \"end_column\": 17, \"file\": \"db/db_impl.cc\", \"label\": \"mutex_.Lock()\"}, {\"similarity\": 99.99992276968257, \"clang_source_range_as_text\": \"mu_.Lock()\", \"start_line\": 318, \"start_column\": 5, \"end_line\": 318, \"end_column\": 14, \"file\": \"db/skiplist_test.cc\", \"label\": \"mu_.Lock()\"}, {\"similarity\": 56.393961657542, \"clang_source_range_as_text\": \"env->LockFile(lockname, &lock)\", \"start_line\": 1534, \"start_column\": 12, \"end_line\": 1534, \"end_column\": 41, \"file\": \"db/db_impl.cc\", \"label\": \"env->LockFile(lockname, &lock)\"}, {\"similarity\": 56.393961657542, \"clang_source_range_as_text\": \"env_->LockFile(LockFileName(dbname_), &db_lock_)\", \"start_line\": 297, \"start_column\": 14, \"end_line\": 297, \"end_column\": 61, \"file\": \"db/db_impl.cc\", \"label\": \"env_->LockFile(LockFileName(dbname_), &db_lock_)\"}, {\"similarity\": 56.393961657542, \"clang_source_range_as_text\": \"target_->LockFile(f, l)\", \"start_line\": 381, \"start_column\": 12, \"end_line\": 381, \"end_column\": 34, \"file\": \"include/leveldb/env.h\", \"label\": \"target_->LockFile(f, l)\"}, {\"similarity\": 42.9079933168053, \"clang_source_range_as_text\": \"LockFileName(dbname)\", \"start_line\": 1533, \"start_column\": 32, \"end_line\": 1533, \"end_column\": 51, \"file\": \"db/db_impl.cc\", \"label\": \"LockFileName(dbname)\"}, {\"similarity\": 42.9079933168053, \"clang_source_range_as_text\": \"LockFileName(\\\"foo\\\")\", \"start_line\": 84, \"start_column\": 11, \"end_line\": 84, \"end_column\": 29, \"file\": \"db/filename_test.cc\", \"label\": \"LockFileName(\\\"foo\\\")\"}, {\"similarity\": 42.9079933168053, \"clang_source_range_as_text\": \"LockFileName(dbname_)\", \"start_line\": 297, \"start_column\": 29, \"end_line\": 297, \"end_column\": 49, \"file\": \"db/db_impl.cc\", \"label\": \"LockFileName(dbname_)\"}, {\"similarity\": 16.851061207633688, \"clang_source_range_as_text\": \"mutex_.Unlock()\", \"start_line\": 159, \"start_column\": 3, \"end_line\": 159, \"end_column\": 17, \"file\": \"db/db_impl.cc\", \"label\": \"mutex_.Unlock()\"}, {\"similarity\": 16.851061207633688, \"clang_source_range_as_text\": \"mutex_.Unlock()\", \"start_line\": 808, \"start_column\": 5, \"end_line\": 808, \"end_column\": 19, \"file\": \"db/db_impl.cc\", \"label\": \"mutex_.Unlock()\"}, {\"similarity\": 16.851061207633688, \"clang_source_range_as_text\": \"mu->Unlock()\", \"start_line\": 819, \"start_column\": 5, \"end_line\": 819, \"end_column\": 16, \"file\": \"db/version_set.cc\", \"label\": \"mu->Unlock()\"}, {\"similarity\": 16.851061207633688, \"clang_source_range_as_text\": \"mutex_.Unlock()\", \"start_line\": 1224, \"start_column\": 7, \"end_line\": 1224, \"end_column\": 21, \"file\": \"db/db_impl.cc\", \"label\": \"mutex_.Unlock()\"}, {\"similarity\": 16.851061207633688, \"clang_source_range_as_text\": \"mutex_.Unlock()\", \"start_line\": 343, \"start_column\": 3, \"end_line\": 343, \"end_column\": 17, \"file\": \"db/fault_injection_test.cc\", \"label\": \"mutex_.Unlock()\"}, {\"similarity\": 16.851061207633688, \"clang_source_range_as_text\": \"state->mu->Unlock()\", \"start_line\": 1066, \"start_column\": 3, \"end_line\": 1066, \"end_column\": 21, \"file\": \"db/db_impl.cc\", \"label\": \"state->mu->Unlock()\"}, {\"similarity\": 16.851061207633688, \"clang_source_range_as_text\": \"mutex_.Unlock()\", \"start_line\": 1134, \"start_column\": 5, \"end_line\": 1134, \"end_column\": 19, \"file\": \"db/db_impl.cc\", \"label\": \"mutex_.Unlock()\"}, {\"similarity\": 16.851061207633688, \"clang_source_range_as_text\": \"mutex_.Unlock()\", \"start_line\": 908, \"start_column\": 3, \"end_line\": 908, \"end_column\": 17, \"file\": \"db/db_impl.cc\", \"label\": \"mutex_.Unlock()\"}]</div><p>Results viewable in the find-tune panel.</p>",
      "text/plain": "<IPython.core.display.HTML object>"
     },
     "metadata": {},
     "output_type": "display_data"
    }
   ],
   "source": [
    "test = (project\n",
    "    .query()\n",
    "    .calls()\n",
    "    .name_semantically_similar_to('lock')\n",
    "    .select_text_repr()\n",
    "    .select_line_info()\n",
    "    .from_files_matching(\"db/.*\")\n",
    "    .structurally_unique()\n",
    "    .limit(30)\n",
    "    .execute()\n",
    "    .display()\n",
    ")"
   ]
  },
  {
   "cell_type": "code",
   "execution_count": 5,
   "metadata": {
    "vscode": {
     "end_execution_time": "2020-08-17T19:37:22.875Z",
     "start_execution_time": "2020-08-17T19:37:22.548Z"
    }
   },
   "outputs": [
    {
     "data": {
      "text/html": "<div class=\"findtune\" style=\"display: none;\">[{\"clang_source_range_as_text\": \"mu_.Unlock()\", \"start_line\": 321, \"start_column\": 5, \"end_line\": 321, \"end_column\": 16, \"file\": \"db/skiplist_test.cc\", \"label\": \"mu_.Unlock()\"}, {\"clang_source_range_as_text\": \"mutex_.Unlock()\", \"start_line\": 343, \"start_column\": 3, \"end_line\": 343, \"end_column\": 17, \"file\": \"db/fault_injection_test.cc\", \"label\": \"mutex_.Unlock()\"}, {\"clang_source_range_as_text\": \"impl->mutex_.Unlock()\", \"start_line\": 1511, \"start_column\": 3, \"end_line\": 1511, \"end_column\": 23, \"file\": \"db/db_impl.cc\", \"label\": \"impl->mutex_.Unlock()\"}, {\"clang_source_range_as_text\": \"mutex_.Unlock()\", \"start_line\": 1224, \"start_column\": 7, \"end_line\": 1224, \"end_column\": 21, \"file\": \"db/db_impl.cc\", \"label\": \"mutex_.Unlock()\"}, {\"clang_source_range_as_text\": \"target_->LockFile(f, l)\", \"start_line\": 381, \"start_column\": 12, \"end_line\": 381, \"end_column\": 34, \"file\": \"include/leveldb/env.h\", \"label\": \"target_->LockFile(f, l)\"}, {\"clang_source_range_as_text\": \"mutex_.Lock()\", \"start_line\": 286, \"start_column\": 3, \"end_line\": 286, \"end_column\": 15, \"file\": \"db/db_impl.cc\", \"label\": \"mutex_.Lock()\"}, {\"clang_source_range_as_text\": \"mutex_.Lock()\", \"start_line\": 920, \"start_column\": 7, \"end_line\": 920, \"end_column\": 19, \"file\": \"db/db_impl.cc\", \"label\": \"mutex_.Lock()\"}, {\"clang_source_range_as_text\": \"mutex_.Lock()\", \"start_line\": 1145, \"start_column\": 5, \"end_line\": 1145, \"end_column\": 17, \"file\": \"db/db_impl.cc\", \"label\": \"mutex_.Lock()\"}, {\"clang_source_range_as_text\": \"mutex_.Unlock()\", \"start_line\": 282, \"start_column\": 3, \"end_line\": 282, \"end_column\": 17, \"file\": \"db/db_impl.cc\", \"label\": \"mutex_.Unlock()\"}, {\"clang_source_range_as_text\": \"mutex_.Unlock()\", \"start_line\": 926, \"start_column\": 7, \"end_line\": 926, \"end_column\": 21, \"file\": \"db/db_impl.cc\", \"label\": \"mutex_.Unlock()\"}, {\"clang_source_range_as_text\": \"state->mu->Lock()\", \"start_line\": 1062, \"start_column\": 3, \"end_line\": 1062, \"end_column\": 19, \"file\": \"db/db_impl.cc\", \"label\": \"state->mu->Lock()\"}, {\"clang_source_range_as_text\": \"mutex_.Unlock()\", \"start_line\": 908, \"start_column\": 3, \"end_line\": 908, \"end_column\": 17, \"file\": \"db/db_impl.cc\", \"label\": \"mutex_.Unlock()\"}, {\"clang_source_range_as_text\": \"mutex_.Lock()\", \"start_line\": 1075, \"start_column\": 3, \"end_line\": 1075, \"end_column\": 15, \"file\": \"db/db_impl.cc\", \"label\": \"mutex_.Lock()\"}, {\"clang_source_range_as_text\": \"mutex_.Unlock()\", \"start_line\": 513, \"start_column\": 5, \"end_line\": 513, \"end_column\": 19, \"file\": \"db/db_impl.cc\", \"label\": \"mutex_.Unlock()\"}, {\"clang_source_range_as_text\": \"env->UnlockFile(lock)\", \"start_line\": 1547, \"start_column\": 5, \"end_line\": 1547, \"end_column\": 25, \"file\": \"db/db_impl.cc\", \"label\": \"env->UnlockFile(lock)\"}, {\"clang_source_range_as_text\": \"mutex_.Lock()\", \"start_line\": 1034, \"start_column\": 3, \"end_line\": 1034, \"end_column\": 15, \"file\": \"db/db_impl.cc\", \"label\": \"mutex_.Lock()\"}, {\"clang_source_range_as_text\": \"mutex_.Unlock()\", \"start_line\": 1338, \"start_column\": 7, \"end_line\": 1338, \"end_column\": 21, \"file\": \"db/db_impl.cc\", \"label\": \"mutex_.Unlock()\"}, {\"clang_source_range_as_text\": \"SkipToInitialBlock()\", \"start_line\": 58, \"start_column\": 10, \"end_line\": 58, \"end_column\": 29, \"file\": \"db/log_reader.cc\", \"label\": \"SkipToInitialBlock()\"}, {\"clang_source_range_as_text\": \"mu->Lock()\", \"start_line\": 840, \"start_column\": 5, \"end_line\": 840, \"end_column\": 14, \"file\": \"db/version_set.cc\", \"label\": \"mu->Lock()\"}, {\"clang_source_range_as_text\": \"leveldb_options_set_block_size(options, 1024)\", \"start_line\": 176, \"start_column\": 3, \"end_line\": 176, \"end_column\": 47, \"file\": \"db/c_test.c\", \"label\": \"leveldb_options_set_block_size(options, 1024)\"}, {\"clang_source_range_as_text\": \"mutex_.Unlock()\", \"start_line\": 1134, \"start_column\": 5, \"end_line\": 1134, \"end_column\": 19, \"file\": \"db/db_impl.cc\", \"label\": \"mutex_.Unlock()\"}, {\"clang_source_range_as_text\": \"mutex_.Lock()\", \"start_line\": 340, \"start_column\": 3, \"end_line\": 340, \"end_column\": 15, \"file\": \"db/fault_injection_test.cc\", \"label\": \"mutex_.Lock()\"}, {\"clang_source_range_as_text\": \"mu_.Lock()\", \"start_line\": 318, \"start_column\": 5, \"end_line\": 318, \"end_column\": 14, \"file\": \"db/skiplist_test.cc\", \"label\": \"mu_.Lock()\"}, {\"clang_source_range_as_text\": \"LockFileName(dbname_)\", \"start_line\": 297, \"start_column\": 29, \"end_line\": 297, \"end_column\": 49, \"file\": \"db/db_impl.cc\", \"label\": \"LockFileName(dbname_)\"}, {\"clang_source_range_as_text\": \"mutex_.Unlock()\", \"start_line\": 1095, \"start_column\": 3, \"end_line\": 1095, \"end_column\": 17, \"file\": \"db/db_impl.cc\", \"label\": \"mutex_.Unlock()\"}, {\"clang_source_range_as_text\": \"mu_.Lock()\", \"start_line\": 310, \"start_column\": 5, \"end_line\": 310, \"end_column\": 14, \"file\": \"db/skiplist_test.cc\", \"label\": \"mu_.Lock()\"}, {\"clang_source_range_as_text\": \"mu->Unlock()\", \"start_line\": 819, \"start_column\": 5, \"end_line\": 819, \"end_column\": 16, \"file\": \"db/version_set.cc\", \"label\": \"mu->Unlock()\"}, {\"clang_source_range_as_text\": \"mutex_.Lock()\", \"start_line\": 1236, \"start_column\": 7, \"end_line\": 1236, \"end_column\": 19, \"file\": \"db/db_impl.cc\", \"label\": \"mutex_.Lock()\"}, {\"clang_source_range_as_text\": \"mu_.Unlock()\", \"start_line\": 314, \"start_column\": 5, \"end_line\": 314, \"end_column\": 16, \"file\": \"db/skiplist_test.cc\", \"label\": \"mu_.Unlock()\"}, {\"clang_source_range_as_text\": \"mutex_.Lock()\", \"start_line\": 515, \"start_column\": 5, \"end_line\": 515, \"end_column\": 17, \"file\": \"db/db_impl.cc\", \"label\": \"mutex_.Lock()\"}]</div><p>Results viewable in the find-tune panel.</p>",
      "text/plain": "<IPython.core.display.HTML object>"
     },
     "metadata": {},
     "output_type": "display_data"
    }
   ],
   "source": [
    "test = (project\n",
    "    .query()\n",
    "    .calls()\n",
    "    .name_contains('lock')\n",
    "    .select_text_repr()\n",
    "    .select_line_info()\n",
    "    .from_files_matching(\"db/.*\")\n",
    "    .structurally_unique()\n",
    "    .limit(30)\n",
    "    .execute()\n",
    "    .display()\n",
    ")"
   ]
  },
  {
   "cell_type": "code",
   "execution_count": 11,
   "metadata": {
    "vscode": {
     "end_execution_time": "2020-08-21T16:13:37.314Z",
     "start_execution_time": "2020-08-21T16:11:57.781Z"
    }
   },
   "outputs": [
    {
     "data": {
      "text/html": "<div class=\"findtune\" style=\"display: none;\">[{\"gid\": -9092937185113158595, \"start_line\": 90, \"start_column\": 42, \"end_line\": 90, \"end_column\": 42, \"file\": \"db/autocompact_test.cc\", \"clang_source_range_as_text\": \"1000000\", \"label\": \"1000000\"}, {\"gid\": -8468105260293370618, \"start_line\": 1184, \"start_column\": 25, \"end_line\": 1184, \"end_column\": 25, \"file\": \"third_party/googletest/googletest/include/gtest/internal/gtest-port.h\", \"clang_source_range_as_text\": \"10\", \"label\": \"10\"}, {\"gid\": -7457951025694888965, \"start_line\": 769, \"start_column\": 23, \"end_line\": 769, \"end_column\": 23, \"file\": \"db/db_test.cc\", \"clang_source_range_as_text\": \"1000\", \"label\": \"1000\"}, {\"gid\": -3375362353486147355, \"start_line\": 1754, \"start_column\": 25, \"end_line\": 1754, \"end_column\": 25, \"file\": \"db/db_test.cc\", \"clang_source_range_as_text\": \"100\", \"label\": \"100\"}, {\"gid\": -2282220279155415625, \"start_line\": 1339, \"start_column\": 34, \"end_line\": 1339, \"end_column\": 34, \"file\": \"db/db_impl.cc\", \"clang_source_range_as_text\": \"1000\", \"label\": \"1000\"}, {\"gid\": -2201762406325477872, \"start_line\": 65, \"start_column\": 49, \"end_line\": 65, \"end_column\": 49, \"file\": \"db/db_test.cc\", \"clang_source_range_as_text\": \"1000\", \"label\": \"1000\"}, {\"gid\": -969203795463245883, \"start_line\": 335, \"start_column\": 31, \"end_line\": 335, \"end_column\": 31, \"file\": \"db/corruption_test.cc\", \"clang_source_range_as_text\": \"100000\", \"label\": \"100000\"}, {\"gid\": -294899155071624966, \"start_line\": 1, \"start_column\": 1, \"end_line\": 1, \"end_column\": 1, \"file\": \"\", \"clang_source_range_as_text\": \"1\", \"label\": \"1\"}, {\"gid\": -282474367028540286, \"start_line\": 1470, \"start_column\": 21, \"end_line\": 1470, \"end_column\": 21, \"file\": \"db/db_test.cc\", \"clang_source_range_as_text\": \"1000\", \"label\": \"1000\"}, {\"gid\": 1653848566942769064, \"start_line\": 2014, \"start_column\": 27, \"end_line\": 2014, \"end_column\": 27, \"file\": \"db/db_test.cc\", \"clang_source_range_as_text\": \"100\", \"label\": \"100\"}, {\"gid\": 5014171884601387435, \"start_line\": 2008, \"start_column\": 38, \"end_line\": 2008, \"end_column\": 38, \"file\": \"db/db_test.cc\", \"clang_source_range_as_text\": \"1000\", \"label\": \"1000\"}, {\"gid\": 6208154803930347811, \"start_line\": 1496, \"start_column\": 21, \"end_line\": 1496, \"end_column\": 21, \"file\": \"db/db_test.cc\", \"clang_source_range_as_text\": \"1000\", \"label\": \"1000\"}, {\"gid\": 6589217225076275499, \"start_line\": 157, \"start_column\": 29, \"end_line\": 157, \"end_column\": 29, \"file\": \"db/db_test.cc\", \"clang_source_range_as_text\": \"100\", \"label\": \"100\"}, {\"gid\": 7612943352463000592, \"start_line\": 1486, \"start_column\": 21, \"end_line\": 1486, \"end_column\": 21, \"file\": \"db/db_test.cc\", \"clang_source_range_as_text\": \"1000\", \"label\": \"1000\"}, {\"gid\": 7643140181700840941, \"start_line\": 1, \"start_column\": 1, \"end_line\": 1, \"end_column\": 1, \"file\": \"\", \"clang_source_range_as_text\": \"100\", \"label\": \"100\"}]</div><p>Results viewable in the find-tune panel.</p>",
      "text/plain": "<IPython.core.display.HTML object>"
     },
     "metadata": {},
     "output_type": "display_data"
    }
   ],
   "source": [
    "# The targets we'd like to match against\n",
    "destinations = (project\n",
    "    .query()\n",
    "    .integers()\n",
    "    .structurally_unique()\n",
    "    .make_visualizable()\n",
    "    .select()\n",
    "    .execute()\n",
    ")\n",
    "\n",
    "# We only care about an integer literal if it winds up\n",
    "# as a parameter to one of these calls, so these are our \"sources\"\n",
    "sources = (project\n",
    "    .query()\n",
    "    .calls()\n",
    "    .name_semantically_similar_to('sleep', threshold=-20.0)\n",
    "    .with_single_parameter()\n",
    "    .parameters()\n",
    "    .select()\n",
    "    .execute()\n",
    ")\n",
    "\n",
    "# Shows us integer literals that were ended up as parameters\n",
    "# to one of the calls like sleep/wait/delay\n",
    "(project\n",
    "    .flows()\n",
    "    .src(sources)\n",
    "    .dst(destinations)\n",
    "    .execute()\n",
    "    .display()\n",
    ")\n"
   ]
  },
  {
   "cell_type": "code",
   "execution_count": 5,
   "metadata": {
    "vscode": {
     "end_execution_time": "2020-08-14T16:12:11.293Z",
     "start_execution_time": "2020-08-14T16:09:15.164Z"
    }
   },
   "outputs": [
    {
     "data": {
      "text/html": "<div class=\"findtune\" style=\"display: none;\">[{\"start_line\": 675, \"start_column\": 10, \"end_line\": 675, \"end_column\": 22, \"file\": \"db/version_set.cc\", \"clang_source_range_as_text\": \"int level = 0\", \"gid\": -9138812961419284470, \"label\": \"int level = 0\"}, {\"start_line\": 472, \"start_column\": 3, \"end_line\": 472, \"end_column\": 15, \"file\": \"db/version_set.cc\", \"clang_source_range_as_text\": \"int level = 0\", \"gid\": -9013152893792515926, \"label\": \"int level = 0\"}, {\"start_line\": 1253, \"start_column\": 3, \"end_line\": 1253, \"end_column\": 65, \"file\": \"db/version_set.cc\", \"clang_source_range_as_text\": \"const bool size_compaction = (current_->compaction_score_ >= 1)\", \"gid\": -8765534358962163414, \"label\": \"const bool size_compaction = (current_->compaction_score_ >= 1)\"}, {\"start_line\": 1031, \"start_column\": 8, \"end_line\": 1031, \"end_column\": 20, \"file\": \"db/version_set.cc\", \"clang_source_range_as_text\": \"int level = 0\", \"gid\": -8199346265926321072, \"label\": \"int level = 0\"}, {\"start_line\": 486, \"start_column\": 9, \"end_line\": 486, \"end_column\": 51, \"file\": \"db/version_set.cc\", \"clang_source_range_as_text\": \"const int64_t sum = TotalFileSize(overlaps)\", \"gid\": -8026924718793840770, \"label\": \"const int64_t sum = TotalFileSize(overlaps)\"}, {\"start_line\": 1401, \"start_column\": 5, \"end_line\": 1401, \"end_column\": 61, \"file\": \"db/version_set.cc\", \"clang_source_range_as_text\": \"const int64_t inputs1_size = TotalFileSize(c->inputs_[1])\", \"gid\": -7962668868902024631, \"label\": \"const int64_t inputs1_size = TotalFileSize(c->inputs_[1])\"}, {\"start_line\": 1381, \"start_column\": 3, \"end_line\": 1381, \"end_column\": 30, \"file\": \"db/version_set.cc\", \"clang_source_range_as_text\": \"const int level = c->level()\", \"gid\": -6884530117894645557, \"label\": \"const int level = c->level()\"}, {\"start_line\": 498, \"start_column\": 36, \"end_line\": 498, \"end_column\": 40, \"file\": \"db/version_set.cc\", \"clang_source_range_as_text\": \"int level\", \"gid\": -6234771036275618670, \"label\": \"int level\"}, {\"start_line\": 996, \"start_column\": 3, \"end_line\": 996, \"end_column\": 12, \"file\": \"db/version_set.cc\", \"clang_source_range_as_text\": \"uint64_t manifest_size\", \"gid\": -6202052220327032864, \"label\": \"uint64_t manifest_size\"}, {\"start_line\": 892, \"start_column\": 3, \"end_line\": 892, \"end_column\": 26, \"file\": \"db/version_set.cc\", \"clang_source_range_as_text\": \"bool have_log_number = false\", \"gid\": -5192085729586979004, \"label\": \"bool have_log_number = false\"}, {\"start_line\": 1454, \"start_column\": 5, \"end_line\": 1454, \"end_column\": 63, \"file\": \"db/version_set.cc\", \"clang_source_range_as_text\": \"const uint64_t limit = MaxFileSizeForLevel(options_, level)\", \"gid\": -5052454104614460340, \"label\": \"const uint64_t limit = MaxFileSizeForLevel(options_, level)\"}, {\"start_line\": 1020, \"start_column\": 37, \"end_line\": 1020, \"end_column\": 46, \"file\": \"db/version_set.cc\", \"clang_source_range_as_text\": \"uint64_t number\", \"gid\": -4601449640532070713, \"label\": \"uint64_t number\"}, {\"start_line\": 306, \"start_column\": 5, \"end_line\": 306, \"end_column\": 43, \"file\": \"db/version_set.cc\", \"clang_source_range_as_text\": \"size_t num_files = files_[level].size()\", \"gid\": -4235933764865854290, \"label\": \"size_t num_files = files_[level].size()\"}, {\"start_line\": 895, \"start_column\": 3, \"end_line\": 895, \"end_column\": 29, \"file\": \"db/version_set.cc\", \"clang_source_range_as_text\": \"bool have_last_sequence = false\", \"gid\": -4138663639295805341, \"label\": \"bool have_last_sequence = false\"}, {\"start_line\": 1114, \"start_column\": 8, \"end_line\": 1114, \"end_column\": 20, \"file\": \"db/version_set.cc\", \"clang_source_range_as_text\": \"int level = 0\", \"gid\": -3800869254165968744, \"label\": \"int level = 0\"}, {\"start_line\": 1170, \"start_column\": 7, \"end_line\": 1170, \"end_column\": 49, \"file\": \"db/version_set.cc\", \"clang_source_range_as_text\": \"const int64_t sum = TotalFileSize(overlaps)\", \"gid\": -3020309991202183772, \"label\": \"const int64_t sum = TotalFileSize(overlaps)\"}, {\"start_line\": 893, \"start_column\": 3, \"end_line\": 893, \"end_column\": 31, \"file\": \"db/version_set.cc\", \"clang_source_range_as_text\": \"bool have_prev_log_number = false\", \"gid\": -2892789372416164935, \"label\": \"bool have_prev_log_number = false\"}, {\"start_line\": 1225, \"start_column\": 8, \"end_line\": 1225, \"end_column\": 20, \"file\": \"db/version_set.cc\", \"clang_source_range_as_text\": \"int which = 0\", \"gid\": -2592589724319008408, \"label\": \"int which = 0\"}, {\"start_line\": 1249, \"start_column\": 3, \"end_line\": 1249, \"end_column\": 7, \"file\": \"db/version_set.cc\", \"clang_source_range_as_text\": \"int level\", \"gid\": -1728126058828727942, \"label\": \"int level\"}, {\"start_line\": 717, \"start_column\": 33, \"end_line\": 717, \"end_column\": 37, \"file\": \"db/version_set.cc\", \"clang_source_range_as_text\": \"int level\", \"gid\": -71995331582112768, \"label\": \"int level\"}, {\"start_line\": 994, \"start_column\": 3, \"end_line\": 994, \"end_column\": 12, \"file\": \"db/version_set.cc\", \"clang_source_range_as_text\": \"FileType manifest_type\", \"gid\": 14475538058668169, \"label\": \"FileType manifest_type\"}, {\"start_line\": 310, \"start_column\": 5, \"end_line\": 310, \"end_column\": 72, \"file\": \"db/version_set.cc\", \"clang_source_range_as_text\": \"uint32_t index = FindFile(vset_->icmp_, files_[level], internal_key)\", \"gid\": 2236230824118686614, \"label\": \"uint32_t index = FindFile(vset_->icmp_, files_[level], internal_key)\"}, {\"start_line\": 1254, \"start_column\": 3, \"end_line\": 1254, \"end_column\": 70, \"file\": \"db/version_set.cc\", \"clang_source_range_as_text\": \"const bool seek_compaction = (current_->file_to_compact_ != nullptr)\", \"gid\": 5176096214654817166, \"label\": \"const bool seek_compaction = (current_->file_to_compact_ != nullptr)\"}, {\"start_line\": 122, \"start_column\": 28, \"end_line\": 122, \"end_column\": 33, \"file\": \"db/version_set.cc\", \"clang_source_range_as_text\": \"bool disjoint_sorted_files\", \"gid\": 5863596110992616473, \"label\": \"bool disjoint_sorted_files\"}, {\"start_line\": 199, \"start_column\": 24, \"end_line\": 199, \"end_column\": 33, \"file\": \"db/version_set.h\", \"clang_source_range_as_text\": \"uint64_t file_number\", \"gid\": 5938217941967086939, \"label\": \"uint64_t file_number\"}, {\"start_line\": 1402, \"start_column\": 5, \"end_line\": 1402, \"end_column\": 59, \"file\": \"db/version_set.cc\", \"clang_source_range_as_text\": \"const int64_t expanded0_size = TotalFileSize(expanded0)\", \"gid\": 6585397743575830599, \"label\": \"const int64_t expanded0_size = TotalFileSize(expanded0)\"}, {\"start_line\": 1441, \"start_column\": 38, \"end_line\": 1441, \"end_column\": 42, \"file\": \"db/version_set.cc\", \"clang_source_range_as_text\": \"int level\", \"gid\": 7257361716985414912, \"label\": \"int level\"}, {\"start_line\": 1455, \"start_column\": 5, \"end_line\": 1455, \"end_column\": 22, \"file\": \"db/version_set.cc\", \"clang_source_range_as_text\": \"uint64_t total = 0\", \"gid\": 7292480399540477282, \"label\": \"uint64_t total = 0\"}, {\"start_line\": 1163, \"start_column\": 3, \"end_line\": 1163, \"end_column\": 20, \"file\": \"db/version_set.cc\", \"clang_source_range_as_text\": \"int64_t result = 0\", \"gid\": 7335255138250993189, \"label\": \"int64_t result = 0\"}, {\"start_line\": 576, \"start_column\": 7, \"end_line\": 576, \"end_column\": 70, \"file\": \"db/version_set.cc\", \"clang_source_range_as_text\": \"int r = internal_comparator->Compare(f1->smallest, f2->smallest)\", \"gid\": 7731686044848702139, \"label\": \"int r = internal_comparator->Compare(f1->smallest, f2->smallest)\"}, {\"start_line\": 1187, \"start_column\": 8, \"end_line\": 1187, \"end_column\": 19, \"file\": \"db/version_set.cc\", \"clang_source_range_as_text\": \"size_t i = 0\", \"gid\": 7853678900674459776, \"label\": \"size_t i = 0\"}, {\"start_line\": 142, \"start_column\": 3, \"end_line\": 142, \"end_column\": 20, \"file\": \"db/version_set.cc\", \"clang_source_range_as_text\": \"uint32_t index = 0\", \"gid\": 8708734900220109968, \"label\": \"uint32_t index = 0\"}, {\"start_line\": 894, \"start_column\": 3, \"end_line\": 894, \"end_column\": 25, \"file\": \"db/version_set.cc\", \"clang_source_range_as_text\": \"bool have_next_file = false\", \"gid\": 9064612434240023404, \"label\": \"bool have_next_file = false\"}]</div><p>Results viewable in the find-tune panel.</p>",
      "text/plain": "<IPython.core.display.HTML object>"
     },
     "metadata": {},
     "output_type": "display_data"
    }
   ],
   "source": [
    "# The beauty of fluent api: you can \"just use the language\"\n",
    "scope_and_run = lambda x: \\\n",
    "  x.from_files_matching(\"db/version_set*\").select().execute()\n",
    "\n",
    "(project\n",
    "    .flows()\n",
    "    # Flows from if statement conditions\n",
    "    .src(scope_and_run(\n",
    "        project\n",
    "        .query()\n",
    "        .ifs()\n",
    "        .conditions()\n",
    "    ))\n",
    "    # To variables (that have integral type)\n",
    "    .dst(scope_and_run(\n",
    "        project\n",
    "        .query()\n",
    "        .variables()\n",
    "        .integers()\n",
    "        .make_visualizable()\n",
    "    ))\n",
    "    .execute()\n",
    "    .display()\n",
    ")"
   ]
  },
  {
   "cell_type": "code",
   "execution_count": 2,
   "metadata": {
    "vscode": {
     "end_execution_time": "2020-08-21T16:38:48.319Z",
     "start_execution_time": "2020-08-21T16:38:47.998Z"
    }
   },
   "outputs": [
    {
     "data": {
      "text/html": "<div class=\"findtune\" style=\"display: none;\">[{\"gid\": -8863460136103740760, \"start_line\": 1114, \"start_column\": 31, \"end_line\": 1114, \"end_column\": 39, \"file\": \"db/version_set.cc\", \"clang_source_range_as_text\": \"config::kNumLevels\", \"label\": \"config::kNumLevels\"}, {\"gid\": -8789519618259567669, \"start_line\": 315, \"start_column\": 32, \"end_line\": 315, \"end_column\": 40, \"file\": \"db/version_set.h\", \"clang_source_range_as_text\": \"config::kNumLevels\", \"label\": \"config::kNumLevels\"}, {\"gid\": -8255476589698530101, \"start_line\": 602, \"start_column\": 33, \"end_line\": 602, \"end_column\": 41, \"file\": \"db/version_set.cc\", \"clang_source_range_as_text\": \"config::kNumLevels\", \"label\": \"config::kNumLevels\"}, {\"gid\": -6498938675017140401, \"start_line\": 1395, \"start_column\": 25, \"end_line\": 1395, \"end_column\": 33, \"file\": \"db/db_impl.cc\", \"clang_source_range_as_text\": \"config::kNumLevels\", \"label\": \"config::kNumLevels\"}, {\"gid\": -6184930982256686923, \"start_line\": 542, \"start_column\": 31, \"end_line\": 542, \"end_column\": 39, \"file\": \"db/version_set.cc\", \"clang_source_range_as_text\": \"config::kNumLevels\", \"label\": \"config::kNumLevels\"}, {\"gid\": -6146080683731059685, \"start_line\": 479, \"start_column\": 20, \"end_line\": 479, \"end_column\": 28, \"file\": \"db/version_set.cc\", \"clang_source_range_as_text\": \"config::kMaxMemCompactLevel\", \"label\": \"config::kMaxMemCompactLevel\"}, {\"gid\": -5995479612037071334, \"start_line\": 205, \"start_column\": 26, \"end_line\": 205, \"end_column\": 34, \"file\": \"db/db_impl.h\", \"clang_source_range_as_text\": \"config::kNumLevels\", \"label\": \"config::kNumLevels\"}, {\"gid\": -5939419667978121983, \"start_line\": 414, \"start_column\": 33, \"end_line\": 414, \"end_column\": 41, \"file\": \"db/db_test.cc\", \"clang_source_range_as_text\": \"config::kNumLevels\", \"label\": \"config::kNumLevels\"}, {\"gid\": -4707686724125980460, \"start_line\": 154, \"start_column\": 37, \"end_line\": 154, \"end_column\": 45, \"file\": \"db/version_set.h\", \"clang_source_range_as_text\": \"config::kNumLevels\", \"label\": \"config::kNumLevels\"}, {\"gid\": -4156343367140098184, \"start_line\": 1, \"start_column\": 1, \"end_line\": 1, \"end_column\": 1, \"file\": \"\", \"clang_source_range_as_text\": \"config::kNumLevels\", \"label\": \"config::kNumLevels\"}, {\"gid\": -3004230483413238772, \"start_line\": 313, \"start_column\": 20, \"end_line\": 313, \"end_column\": 28, \"file\": \"db/corruption_test.cc\", \"clang_source_range_as_text\": \"config::kMaxMemCompactLevel\", \"label\": \"config::kMaxMemCompactLevel\"}, {\"gid\": -2936282660891963587, \"start_line\": 1147, \"start_column\": 33, \"end_line\": 1147, \"end_column\": 41, \"file\": \"db/version_set.cc\", \"clang_source_range_as_text\": \"config::kNumLevels\", \"label\": \"config::kNumLevels\"}, {\"gid\": -2928381769795776307, \"start_line\": 1031, \"start_column\": 31, \"end_line\": 1031, \"end_column\": 39, \"file\": \"db/version_set.cc\", \"clang_source_range_as_text\": \"config::kNumLevels\", \"label\": \"config::kNumLevels\"}, {\"gid\": -923580844297274510, \"start_line\": 240, \"start_column\": 31, \"end_line\": 240, \"end_column\": 39, \"file\": \"db/version_set.cc\", \"clang_source_range_as_text\": \"config::kNumLevels\", \"label\": \"config::kNumLevels\"}, {\"gid\": -704041124356920193, \"start_line\": 608, \"start_column\": 33, \"end_line\": 608, \"end_column\": 41, \"file\": \"db/version_set.cc\", \"clang_source_range_as_text\": \"config::kNumLevels\", \"label\": \"config::kNumLevels\"}, {\"gid\": -472888545580117333, \"start_line\": 594, \"start_column\": 22, \"end_line\": 594, \"end_column\": 30, \"file\": \"db/version_set.cc\", \"clang_source_range_as_text\": \"config::kNumLevels\", \"label\": \"config::kNumLevels\"}, {\"gid\": -305228789025556799, \"start_line\": 1732, \"start_column\": 33, \"end_line\": 1732, \"end_column\": 41, \"file\": \"db/db_test.cc\", \"clang_source_range_as_text\": \"config::kNumLevels\", \"label\": \"config::kNumLevels\"}, {\"gid\": -285055082174298782, \"start_line\": 1513, \"start_column\": 36, \"end_line\": 1513, \"end_column\": 44, \"file\": \"db/version_set.cc\", \"clang_source_range_as_text\": \"config::kNumLevels\", \"label\": \"config::kNumLevels\"}, {\"gid\": 72988258068816375, \"start_line\": 75, \"start_column\": 31, \"end_line\": 75, \"end_column\": 39, \"file\": \"db/version_set.cc\", \"clang_source_range_as_text\": \"config::kNumLevels\", \"label\": \"config::kNumLevels\"}, {\"gid\": 177513066573692246, \"start_line\": 1114, \"start_column\": 46, \"end_line\": 1114, \"end_column\": 54, \"file\": \"db/db_test.cc\", \"clang_source_range_as_text\": \"config::kL0_StopWritesTrigger\", \"label\": \"config::kL0_StopWritesTrigger\"}, {\"gid\": 582365779345645850, \"start_line\": 675, \"start_column\": 33, \"end_line\": 675, \"end_column\": 41, \"file\": \"db/version_set.cc\", \"clang_source_range_as_text\": \"config::kNumLevels\", \"label\": \"config::kNumLevels\"}, {\"gid\": 640467479535869686, \"start_line\": 1, \"start_column\": 1, \"end_line\": 1, \"end_column\": 1, \"file\": \"\", \"clang_source_range_as_text\": \"config::kMaxMemCompactLevel\", \"label\": \"config::kMaxMemCompactLevel\"}, {\"gid\": 718741121788645066, \"start_line\": 1046, \"start_column\": 35, \"end_line\": 1046, \"end_column\": 43, \"file\": \"db/version_set.cc\", \"clang_source_range_as_text\": \"config::kL0_CompactionTrigger\", \"label\": \"config::kL0_CompactionTrigger\"}, {\"gid\": 833338743353597239, \"start_line\": 1102, \"start_column\": 17, \"end_line\": 1102, \"end_column\": 25, \"file\": \"db/version_set.cc\", \"clang_source_range_as_text\": \"config::kNumLevels\", \"label\": \"config::kNumLevels\"}, {\"gid\": 910544155798001634, \"start_line\": 582, \"start_column\": 33, \"end_line\": 582, \"end_column\": 41, \"file\": \"db/db_impl.cc\", \"clang_source_range_as_text\": \"config::kNumLevels\", \"label\": \"config::kNumLevels\"}, {\"gid\": 915969417403045358, \"start_line\": 1392, \"start_column\": 20, \"end_line\": 1392, \"end_column\": 28, \"file\": \"db/db_test.cc\", \"clang_source_range_as_text\": \"config::kMaxMemCompactLevel\", \"label\": \"config::kMaxMemCompactLevel\"}, {\"gid\": 973424458125243941, \"start_line\": 714, \"start_column\": 31, \"end_line\": 714, \"end_column\": 39, \"file\": \"table/table_test.cc\", \"clang_source_range_as_text\": \"config::kNumLevels\", \"label\": \"config::kNumLevels\"}, {\"gid\": 998666077194171221, \"start_line\": 476, \"start_column\": 33, \"end_line\": 476, \"end_column\": 41, \"file\": \"db/db_test.cc\", \"clang_source_range_as_text\": \"config::kNumLevels\", \"label\": \"config::kNumLevels\"}, {\"gid\": 1667577137986574228, \"start_line\": 1114, \"start_column\": 25, \"end_line\": 1114, \"end_column\": 33, \"file\": \"db/db_test.cc\", \"clang_source_range_as_text\": \"config::kNumLevels\", \"label\": \"config::kNumLevels\"}, {\"gid\": 3118182907198776850, \"start_line\": 1411, \"start_column\": 33, \"end_line\": 1411, \"end_column\": 41, \"file\": \"db/db_impl.cc\", \"clang_source_range_as_text\": \"config::kNumLevels\", \"label\": \"config::kNumLevels\"}, {\"gid\": 3235357458115211513, \"start_line\": 1165, \"start_column\": 31, \"end_line\": 1165, \"end_column\": 39, \"file\": \"db/version_set.cc\", \"clang_source_range_as_text\": \"config::kNumLevels\", \"label\": \"config::kNumLevels\"}, {\"gid\": 3292364541826327687, \"start_line\": 1351, \"start_column\": 47, \"end_line\": 1351, \"end_column\": 55, \"file\": \"db/db_impl.cc\", \"clang_source_range_as_text\": \"config::kL0_StopWritesTrigger\", \"label\": \"config::kL0_StopWritesTrigger\"}, {\"gid\": 3651717561985254939, \"start_line\": 388, \"start_column\": 22, \"end_line\": 388, \"end_column\": 30, \"file\": \"db/version_set.h\", \"clang_source_range_as_text\": \"config::kNumLevels\", \"label\": \"config::kNumLevels\"}, {\"gid\": 3950006594891299153, \"start_line\": 1428, \"start_column\": 19, \"end_line\": 1428, \"end_column\": 27, \"file\": \"db/version_set.cc\", \"clang_source_range_as_text\": \"config::kNumLevels\", \"label\": \"config::kNumLevels\"}, {\"gid\": 4645152500295228617, \"start_line\": 1363, \"start_column\": 20, \"end_line\": 1363, \"end_column\": 28, \"file\": \"db/db_test.cc\", \"clang_source_range_as_text\": \"config::kMaxMemCompactLevel\", \"label\": \"config::kMaxMemCompactLevel\"}, {\"gid\": 4745162617444988708, \"start_line\": 424, \"start_column\": 33, \"end_line\": 424, \"end_column\": 41, \"file\": \"db/db_test.cc\", \"clang_source_range_as_text\": \"config::kNumLevels\", \"label\": \"config::kNumLevels\"}, {\"gid\": 4955725149488287283, \"start_line\": 1481, \"start_column\": 23, \"end_line\": 1481, \"end_column\": 31, \"file\": \"db/version_set.cc\", \"clang_source_range_as_text\": \"config::kNumLevels\", \"label\": \"config::kNumLevels\"}, {\"gid\": 5959258217514682629, \"start_line\": 1, \"start_column\": 1, \"end_line\": 1, \"end_column\": 1, \"file\": \"\", \"clang_source_range_as_text\": \"config::kNumLevels\", \"label\": \"config::kNumLevels\"}, {\"gid\": 6423615014704224589, \"start_line\": 1072, \"start_column\": 31, \"end_line\": 1072, \"end_column\": 39, \"file\": \"db/version_set.cc\", \"clang_source_range_as_text\": \"config::kNumLevels\", \"label\": \"config::kNumLevels\"}, {\"gid\": 6624773919489647749, \"start_line\": 97, \"start_column\": 37, \"end_line\": 97, \"end_column\": 45, \"file\": \"db/version_edit.cc\", \"clang_source_range_as_text\": \"config::kNumLevels\", \"label\": \"config::kNumLevels\"}, {\"gid\": 6766559724347180545, \"start_line\": 483, \"start_column\": 23, \"end_line\": 483, \"end_column\": 31, \"file\": \"db/version_set.cc\", \"clang_source_range_as_text\": \"config::kNumLevels\", \"label\": \"config::kNumLevels\"}, {\"gid\": 6938340358319936230, \"start_line\": 106, \"start_column\": 29, \"end_line\": 106, \"end_column\": 37, \"file\": \"db/db_iter.cc\", \"clang_source_range_as_text\": \"config::kReadBytesPeriod\", \"label\": \"config::kReadBytesPeriod\"}, {\"gid\": 7344900249479898780, \"start_line\": 1331, \"start_column\": 35, \"end_line\": 1331, \"end_column\": 43, \"file\": \"db/db_impl.cc\", \"clang_source_range_as_text\": \"config::kL0_SlowdownWritesTrigger\", \"label\": \"config::kL0_SlowdownWritesTrigger\"}, {\"gid\": 7380573477997838832, \"start_line\": 1081, \"start_column\": 31, \"end_line\": 1081, \"end_column\": 39, \"file\": \"db/version_set.cc\", \"clang_source_range_as_text\": \"config::kNumLevels\", \"label\": \"config::kNumLevels\"}, {\"gid\": 8649451236992452285, \"start_line\": 1817, \"start_column\": 22, \"end_line\": 1817, \"end_column\": 30, \"file\": \"db/db_test.cc\", \"clang_source_range_as_text\": \"config::kMaxMemCompactLevel\", \"label\": \"config::kMaxMemCompactLevel\"}, {\"gid\": 8727155187070152405, \"start_line\": 468, \"start_column\": 16, \"end_line\": 468, \"end_column\": 24, \"file\": \"db/db_test.cc\", \"clang_source_range_as_text\": \"config::kNumLevels\", \"label\": \"config::kNumLevels\"}, {\"gid\": 9047322637741151975, \"start_line\": 305, \"start_column\": 31, \"end_line\": 305, \"end_column\": 39, \"file\": \"db/version_set.cc\", \"clang_source_range_as_text\": \"config::kNumLevels\", \"label\": \"config::kNumLevels\"}]</div><p>Results viewable in the find-tune panel.</p>",
      "text/plain": "<IPython.core.display.HTML object>"
     },
     "metadata": {},
     "output_type": "display_data"
    }
   ],
   "source": [
    "namespaces = (project\n",
    "    .query()\n",
    "    .namespaces()\n",
    "    .name_contains('config')\n",
    "    .make_visualizable()\n",
    "    .declarations()\n",
    "    .select_usages()\n",
    "    .execute()\n",
    "    .display()\n",
    ")"
   ]
  },
  {
   "cell_type": "code",
   "execution_count": 4,
   "metadata": {
    "vscode": {
     "end_execution_time": "2020-08-21T16:35:28.787Z",
     "start_execution_time": "2020-08-21T16:35:28.061Z"
    }
   },
   "outputs": [
    {
     "data": {
      "text/html": "<div class=\"findtune\" style=\"display: none;\">[{\"similarity\": 10.978962664837667, \"gid\": -6749346081387397016, \"start_line\": 25, \"start_column\": 1, \"end_line\": 25, \"end_column\": 31, \"file\": \"db/dbformat.h\", \"clang_source_range_as_text\": \"static const int kNumLevels = 7\", \"label\": \"static const int kNumLevels = 7\"}, {\"similarity\": 10.978962664837667, \"gid\": -5195972434379642435, \"start_line\": 34, \"start_column\": 1, \"end_line\": 34, \"end_column\": 42, \"file\": \"db/dbformat.h\", \"clang_source_range_as_text\": \"static const int kL0_StopWritesTrigger = 12\", \"label\": \"static const int kL0_StopWritesTrigger = 12\"}, {\"similarity\": 10.978962664837667, \"gid\": -1165455174029277459, \"start_line\": 31, \"start_column\": 1, \"end_line\": 31, \"end_column\": 46, \"file\": \"db/dbformat.h\", \"clang_source_range_as_text\": \"static const int kL0_SlowdownWritesTrigger = 8\", \"label\": \"static const int kL0_SlowdownWritesTrigger = 8\"}, {\"similarity\": 10.978962664837667, \"gid\": -855535209693401824, \"start_line\": 42, \"start_column\": 1, \"end_line\": 42, \"end_column\": 40, \"file\": \"db/dbformat.h\", \"clang_source_range_as_text\": \"static const int kMaxMemCompactLevel = 2\", \"label\": \"static const int kMaxMemCompactLevel = 2\"}, {\"similarity\": 10.978962664837667, \"gid\": 1484655154653092135, \"start_line\": 28, \"start_column\": 1, \"end_line\": 28, \"end_column\": 42, \"file\": \"db/dbformat.h\", \"clang_source_range_as_text\": \"static const int kL0_CompactionTrigger = 4\", \"label\": \"static const int kL0_CompactionTrigger = 4\"}, {\"similarity\": 10.978962664837667, \"gid\": 3699554783793979316, \"start_line\": 45, \"start_column\": 1, \"end_line\": 45, \"end_column\": 37, \"file\": \"db/dbformat.h\", \"clang_source_range_as_text\": \"static const int kReadBytesPeriod = 1048576\", \"label\": \"static const int kReadBytesPeriod = 1048576\"}]</div><p>Results viewable in the find-tune panel.</p>",
      "text/plain": "<IPython.core.display.HTML object>"
     },
     "metadata": {},
     "output_type": "display_data"
    }
   ],
   "source": [
    "namespaces = (project\n",
    "    .query()\n",
    "    .namespaces()\n",
    "    .name_semantically_similar_to('settings')\n",
    "    .make_visualizable()\n",
    "    .declarations()\n",
    "    .select()\n",
    "    .execute()\n",
    "    .display()\n",
    ")"
   ]
  },
  {
   "cell_type": "code",
   "execution_count": 4,
   "metadata": {
    "vscode": {
     "end_execution_time": "2020-08-19T17:21:28.854Z",
     "start_execution_time": "2020-08-19T17:15:15.100Z"
    }
   },
   "outputs": [],
   "source": [
    "project.deallocate(keep_db=False)"
   ]
  }
 ],
 "metadata": {
  "kernelspec": {
   "display_name": "Python 3.7.4 64-bit",
   "name": "python37464bitdad44b7654dd4770a9c212923f04b368"
  },
  "language_info": {
   "codemirror_mode": {
    "name": "ipython",
    "version": 3
   },
   "file_extension": ".py",
   "mimetype": "text/x-python",
   "name": "python",
   "nbconvert_exporter": "python",
   "pygments_lexer": "ipython3",
   "version": "3.7.4-final"
  },
  "orig_nbformat": 2
 },
 "nbformat": 4,
 "nbformat_minor": 2
}