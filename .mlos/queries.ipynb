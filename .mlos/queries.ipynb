{
 "cells": [
  {
   "cell_type": "code",
   "execution_count": 1,
   "metadata": {
    "vscode": {}
   },
   "outputs": [],
   "source": [
    "import mlos\r\n",
    "\r\n",
    "mlos.set_project_dir('C://Users/t-jorhen/Documents/GitHub/leveldb/.mlos')\r\n",
    "mlos.checkenv(using_azure=True)\r\n",
    "\r\n",
    "project = (\r\n",
    "  mlos\r\n",
    "    .create_project_from_git_info()\r\n",
    "    .with_backend(mlos.backends().azure())\r\n",
    "    .with_build_options(mlos.build_options())\r\n",
    ")\r\n",
    "\r\n",
    "project.attach(db_only=True)"
   ]
  }
 ],
 "metadata": {
  "kernelspec": {
   "display_name": "Python 3.7.4 64-bit",
   "name": "python37464bitdad44b7654dd4770a9c212923f04b368"
  },
  "language_info": {
   "codemirror_mode": {
    "name": "ipython",
    "version": 3
   },
   "file_extension": ".py",
   "mimetype": "text/x-python",
   "name": "python",
   "nbconvert_exporter": "python",
   "pygments_lexer": "ipython3",
   "version": "3.7.4-final"
  },
  "orig_nbformat": 2
 },
 "nbformat": 4,
 "nbformat_minor": 2
}