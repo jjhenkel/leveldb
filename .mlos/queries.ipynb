{
 "cells": [
  {
   "cell_type": "code",
   "execution_count": 1,
   "metadata": {
    "vscode": {
     "end_execution_time": "2020-08-21T18:04:47.211Z",
     "start_execution_time": "2020-08-21T18:04:42.070Z"
    }
   },
   "outputs": [
    {
     "name": "stderr",
     "output_type": "stream",
     "text": [
      "- Verifying environment...\n",
      "   ✓ Environment verification complete\n",
      "- Creating project from current git repository...\n",
      "   - Getting project name: \n",
      "      ✓ project-name:='https://github.com/jjhenkel/leveldb'\n",
      "   - Getting project commit hash: \n",
      "      ✓ project-commit:='23238a40ab67edb0dc10314c28d37b8a604d14f1'\n",
      "- Ensuring infrastructure is allocated...\n",
      "\u001b[K   ✓ Found resource group 'FindTune-EUS'\n",
      "\u001b[K   ✓ Using existing vnet: 'findtune-az-autogen-vnet-801663' (['10.0.0.0/16'])\n",
      "   ✓ Using existing subnet: 'findtune-az-autogen-subnet-806943' (10.0.0.0/24)\n",
      "\u001b[K   ✓ Using existing ip: 'findtune-az-autogen-ip-ft-db-211043' (52.226.50.179)\n",
      "   ✓ Using existing vm: 'findtune-az-autogen-vm-ft-db-500381'\n",
      "- Attaching...\n",
      "\u001b[K   ✓ 'findtune-az-autogen-vm-ft-db-500381' is running!\n",
      "\u001b[K   ✓ Skipping DB create. Database 'targets-leveldb' already exists!\n",
      "   ✓ Attached. Ready to run queries\n"
     ]
    },
    {
     "data": {
      "text/html": "<div class=\"findtune\" style=\"display: none;\">{\"POSTGRES_HOST\": \"52.226.50.179\", \"POSTGRES_USER\": \"ft-admin\", \"POSTGRES_PASSWORD\": \"vie0thahnahpheKe\", \"POSTGRES_DB\": \"targets-leveldb\"}</div>",
      "text/plain": "<IPython.core.display.HTML object>"
     },
     "metadata": {},
     "output_type": "display_data"
    }
   ],
   "source": [
    "import mlos\n",
    "\n",
    "mlos.set_project_dir('/home/jjhenkel/leveldb/.mlos')\n",
    "mlos.checkenv(using_azure=True)\n",
    "\n",
    "project = (\n",
    "  mlos\n",
    "    .create_project_from_git_info()\n",
    "    .with_backend(mlos.backends().azure())\n",
    "    .with_build_options(mlos.build_options())\n",
    ")\n",
    "\n",
    "project.attach(db_only=True)"
   ]
  },
  {
   "cell_type": "code",
   "execution_count": 8,
   "metadata": {
    "vscode": {
     "end_execution_time": "2020-08-21T18:02:31.267Z",
     "start_execution_time": "2020-08-21T18:02:29.786Z"
    }
   },
   "outputs": [
    {
     "data": {
      "text/html": "<div class=\"findtune\" style=\"display: none;\">[{\"similarity\": 10.978962664837667, \"gid\": -8863460136103740760, \"start_line\": 1114, \"start_column\": 31, \"end_line\": 1114, \"end_column\": 39, \"file\": \"db/version_set.cc\", \"clang_source_range_as_text\": \"config::kNumLevels\", \"label\": \"config::kNumLevels\"}, {\"similarity\": 10.978962664837667, \"gid\": -8789519618259567669, \"start_line\": 315, \"start_column\": 32, \"end_line\": 315, \"end_column\": 40, \"file\": \"db/version_set.h\", \"clang_source_range_as_text\": \"config::kNumLevels\", \"label\": \"config::kNumLevels\"}, {\"similarity\": 10.978962664837667, \"gid\": -8255476589698530101, \"start_line\": 602, \"start_column\": 33, \"end_line\": 602, \"end_column\": 41, \"file\": \"db/version_set.cc\", \"clang_source_range_as_text\": \"config::kNumLevels\", \"label\": \"config::kNumLevels\"}, {\"similarity\": 10.978962664837667, \"gid\": -6498938675017140401, \"start_line\": 1395, \"start_column\": 25, \"end_line\": 1395, \"end_column\": 33, \"file\": \"db/db_impl.cc\", \"clang_source_range_as_text\": \"config::kNumLevels\", \"label\": \"config::kNumLevels\"}, {\"similarity\": 10.978962664837667, \"gid\": -6184930982256686923, \"start_line\": 542, \"start_column\": 31, \"end_line\": 542, \"end_column\": 39, \"file\": \"db/version_set.cc\", \"clang_source_range_as_text\": \"config::kNumLevels\", \"label\": \"config::kNumLevels\"}, {\"similarity\": 10.978962664837667, \"gid\": -6146080683731059685, \"start_line\": 479, \"start_column\": 20, \"end_line\": 479, \"end_column\": 28, \"file\": \"db/version_set.cc\", \"clang_source_range_as_text\": \"config::kMaxMemCompactLevel\", \"label\": \"config::kMaxMemCompactLevel\"}, {\"similarity\": 10.978962664837667, \"gid\": -5995479612037071334, \"start_line\": 205, \"start_column\": 26, \"end_line\": 205, \"end_column\": 34, \"file\": \"db/db_impl.h\", \"clang_source_range_as_text\": \"config::kNumLevels\", \"label\": \"config::kNumLevels\"}, {\"similarity\": 10.978962664837667, \"gid\": -4707686724125980460, \"start_line\": 154, \"start_column\": 37, \"end_line\": 154, \"end_column\": 45, \"file\": \"db/version_set.h\", \"clang_source_range_as_text\": \"config::kNumLevels\", \"label\": \"config::kNumLevels\"}, {\"similarity\": 10.978962664837667, \"gid\": -4156343367140098184, \"start_line\": 1, \"start_column\": 1, \"end_line\": 1, \"end_column\": 1, \"file\": \"\", \"clang_source_range_as_text\": \"config::kNumLevels\", \"label\": \"config::kNumLevels\"}, {\"similarity\": 10.978962664837667, \"gid\": -2936282660891963587, \"start_line\": 1147, \"start_column\": 33, \"end_line\": 1147, \"end_column\": 41, \"file\": \"db/version_set.cc\", \"clang_source_range_as_text\": \"config::kNumLevels\", \"label\": \"config::kNumLevels\"}, {\"similarity\": 10.978962664837667, \"gid\": -2928381769795776307, \"start_line\": 1031, \"start_column\": 31, \"end_line\": 1031, \"end_column\": 39, \"file\": \"db/version_set.cc\", \"clang_source_range_as_text\": \"config::kNumLevels\", \"label\": \"config::kNumLevels\"}, {\"similarity\": 10.978962664837667, \"gid\": -923580844297274510, \"start_line\": 240, \"start_column\": 31, \"end_line\": 240, \"end_column\": 39, \"file\": \"db/version_set.cc\", \"clang_source_range_as_text\": \"config::kNumLevels\", \"label\": \"config::kNumLevels\"}, {\"similarity\": 10.978962664837667, \"gid\": -704041124356920193, \"start_line\": 608, \"start_column\": 33, \"end_line\": 608, \"end_column\": 41, \"file\": \"db/version_set.cc\", \"clang_source_range_as_text\": \"config::kNumLevels\", \"label\": \"config::kNumLevels\"}, {\"similarity\": 10.978962664837667, \"gid\": -472888545580117333, \"start_line\": 594, \"start_column\": 22, \"end_line\": 594, \"end_column\": 30, \"file\": \"db/version_set.cc\", \"clang_source_range_as_text\": \"config::kNumLevels\", \"label\": \"config::kNumLevels\"}, {\"similarity\": 10.978962664837667, \"gid\": -285055082174298782, \"start_line\": 1513, \"start_column\": 36, \"end_line\": 1513, \"end_column\": 44, \"file\": \"db/version_set.cc\", \"clang_source_range_as_text\": \"config::kNumLevels\", \"label\": \"config::kNumLevels\"}, {\"similarity\": 10.978962664837667, \"gid\": 72988258068816375, \"start_line\": 75, \"start_column\": 31, \"end_line\": 75, \"end_column\": 39, \"file\": \"db/version_set.cc\", \"clang_source_range_as_text\": \"config::kNumLevels\", \"label\": \"config::kNumLevels\"}, {\"similarity\": 10.978962664837667, \"gid\": 582365779345645850, \"start_line\": 675, \"start_column\": 33, \"end_line\": 675, \"end_column\": 41, \"file\": \"db/version_set.cc\", \"clang_source_range_as_text\": \"config::kNumLevels\", \"label\": \"config::kNumLevels\"}, {\"similarity\": 10.978962664837667, \"gid\": 640467479535869686, \"start_line\": 1, \"start_column\": 1, \"end_line\": 1, \"end_column\": 1, \"file\": \"\", \"clang_source_range_as_text\": \"config::kMaxMemCompactLevel\", \"label\": \"config::kMaxMemCompactLevel\"}, {\"similarity\": 10.978962664837667, \"gid\": 718741121788645066, \"start_line\": 1046, \"start_column\": 35, \"end_line\": 1046, \"end_column\": 43, \"file\": \"db/version_set.cc\", \"clang_source_range_as_text\": \"config::kL0_CompactionTrigger\", \"label\": \"config::kL0_CompactionTrigger\"}, {\"similarity\": 10.978962664837667, \"gid\": 833338743353597239, \"start_line\": 1102, \"start_column\": 17, \"end_line\": 1102, \"end_column\": 25, \"file\": \"db/version_set.cc\", \"clang_source_range_as_text\": \"config::kNumLevels\", \"label\": \"config::kNumLevels\"}, {\"similarity\": 10.978962664837667, \"gid\": 910544155798001634, \"start_line\": 582, \"start_column\": 33, \"end_line\": 582, \"end_column\": 41, \"file\": \"db/db_impl.cc\", \"clang_source_range_as_text\": \"config::kNumLevels\", \"label\": \"config::kNumLevels\"}, {\"similarity\": 10.978962664837667, \"gid\": 3118182907198776850, \"start_line\": 1411, \"start_column\": 33, \"end_line\": 1411, \"end_column\": 41, \"file\": \"db/db_impl.cc\", \"clang_source_range_as_text\": \"config::kNumLevels\", \"label\": \"config::kNumLevels\"}, {\"similarity\": 10.978962664837667, \"gid\": 3235357458115211513, \"start_line\": 1165, \"start_column\": 31, \"end_line\": 1165, \"end_column\": 39, \"file\": \"db/version_set.cc\", \"clang_source_range_as_text\": \"config::kNumLevels\", \"label\": \"config::kNumLevels\"}, {\"similarity\": 10.978962664837667, \"gid\": 3292364541826327687, \"start_line\": 1351, \"start_column\": 47, \"end_line\": 1351, \"end_column\": 55, \"file\": \"db/db_impl.cc\", \"clang_source_range_as_text\": \"config::kL0_StopWritesTrigger\", \"label\": \"config::kL0_StopWritesTrigger\"}, {\"similarity\": 10.978962664837667, \"gid\": 3651717561985254939, \"start_line\": 388, \"start_column\": 22, \"end_line\": 388, \"end_column\": 30, \"file\": \"db/version_set.h\", \"clang_source_range_as_text\": \"config::kNumLevels\", \"label\": \"config::kNumLevels\"}, {\"similarity\": 10.978962664837667, \"gid\": 3950006594891299153, \"start_line\": 1428, \"start_column\": 19, \"end_line\": 1428, \"end_column\": 27, \"file\": \"db/version_set.cc\", \"clang_source_range_as_text\": \"config::kNumLevels\", \"label\": \"config::kNumLevels\"}, {\"similarity\": 10.978962664837667, \"gid\": 4955725149488287283, \"start_line\": 1481, \"start_column\": 23, \"end_line\": 1481, \"end_column\": 31, \"file\": \"db/version_set.cc\", \"clang_source_range_as_text\": \"config::kNumLevels\", \"label\": \"config::kNumLevels\"}, {\"similarity\": 10.978962664837667, \"gid\": 5959258217514682629, \"start_line\": 1, \"start_column\": 1, \"end_line\": 1, \"end_column\": 1, \"file\": \"\", \"clang_source_range_as_text\": \"config::kNumLevels\", \"label\": \"config::kNumLevels\"}, {\"similarity\": 10.978962664837667, \"gid\": 6423615014704224589, \"start_line\": 1072, \"start_column\": 31, \"end_line\": 1072, \"end_column\": 39, \"file\": \"db/version_set.cc\", \"clang_source_range_as_text\": \"config::kNumLevels\", \"label\": \"config::kNumLevels\"}, {\"similarity\": 10.978962664837667, \"gid\": 6624773919489647749, \"start_line\": 97, \"start_column\": 37, \"end_line\": 97, \"end_column\": 45, \"file\": \"db/version_edit.cc\", \"clang_source_range_as_text\": \"config::kNumLevels\", \"label\": \"config::kNumLevels\"}, {\"similarity\": 10.978962664837667, \"gid\": 6766559724347180545, \"start_line\": 483, \"start_column\": 23, \"end_line\": 483, \"end_column\": 31, \"file\": \"db/version_set.cc\", \"clang_source_range_as_text\": \"config::kNumLevels\", \"label\": \"config::kNumLevels\"}, {\"similarity\": 10.978962664837667, \"gid\": 6938340358319936230, \"start_line\": 106, \"start_column\": 29, \"end_line\": 106, \"end_column\": 37, \"file\": \"db/db_iter.cc\", \"clang_source_range_as_text\": \"config::kReadBytesPeriod\", \"label\": \"config::kReadBytesPeriod\"}, {\"similarity\": 10.978962664837667, \"gid\": 7344900249479898780, \"start_line\": 1331, \"start_column\": 35, \"end_line\": 1331, \"end_column\": 43, \"file\": \"db/db_impl.cc\", \"clang_source_range_as_text\": \"config::kL0_SlowdownWritesTrigger\", \"label\": \"config::kL0_SlowdownWritesTrigger\"}, {\"similarity\": 10.978962664837667, \"gid\": 7380573477997838832, \"start_line\": 1081, \"start_column\": 31, \"end_line\": 1081, \"end_column\": 39, \"file\": \"db/version_set.cc\", \"clang_source_range_as_text\": \"config::kNumLevels\", \"label\": \"config::kNumLevels\"}, {\"similarity\": 10.978962664837667, \"gid\": 9047322637741151975, \"start_line\": 305, \"start_column\": 31, \"end_line\": 305, \"end_column\": 39, \"file\": \"db/version_set.cc\", \"clang_source_range_as_text\": \"config::kNumLevels\", \"label\": \"config::kNumLevels\"}]</div><p>Results viewable in the find-tune panel.</p>",
      "text/plain": "<IPython.core.display.HTML object>"
     },
     "metadata": {},
     "output_type": "display_data"
    }
   ],
   "source": [
    "(\n",
    "  project\n",
    "    .query()\n",
    "    .namespaces()\n",
    "    .name_semantically_similar_to(\"settings\")\n",
    "    .make_visualizable()\n",
    "    .declarations()\n",
    "    .select_usages()\n",
    "    .exclude_files_matching('.*test.cc')\n",
    "    .execute()\n",
    "    .display()\n",
    ")"
   ]
  },
  {
   "cell_type": "code",
   "execution_count": 5,
   "metadata": {
    "vscode": {
     "end_execution_time": "2020-08-21T18:09:46.356Z",
     "start_execution_time": "2020-08-21T18:09:45.956Z"
    }
   },
   "outputs": [
    {
     "data": {
      "text/html": "<div class=\"findtune\" style=\"display: none;\">[{\"start_line\": 25, \"start_column\": 1, \"end_line\": 25, \"end_column\": 31, \"file\": \"db/dbformat.h\", \"clang_source_range_as_text\": \"static const int kNumLevels = 7\", \"label\": \"static const int kNumLevels = 7\"}, {\"start_line\": 27, \"start_column\": 1, \"end_line\": 27, \"end_column\": 31, \"file\": \"db/log_format.h\", \"clang_source_range_as_text\": \"static const int kBlockSize = 32768\", \"label\": \"static const int kBlockSize = 32768\"}, {\"start_line\": 30, \"start_column\": 1, \"end_line\": 30, \"end_column\": 40, \"file\": \"db/log_format.h\", \"clang_source_range_as_text\": \"static const int kHeaderSize = 4 + 2 + 1\", \"label\": \"static const int kHeaderSize = 4 + 2 + 1\"}, {\"start_line\": 61, \"start_column\": 1, \"end_line\": 61, \"end_column\": 44, \"file\": \"db/dbformat.h\", \"clang_source_range_as_text\": \"static const ValueType kValueTypeForSeek = kTypeValue\", \"label\": \"static const ValueType kValueTypeForSeek = kTypeValue\"}, {\"start_line\": 67, \"start_column\": 1, \"end_line\": 67, \"end_column\": 69, \"file\": \"db/dbformat.h\", \"clang_source_range_as_text\": \"static const SequenceNumber kMaxSequenceNumber = ((0x1ull << 56) - 1)\", \"label\": \"static const SequenceNumber kMaxSequenceNumber = ((0x1ull << 56) - 1)\"}, {\"start_line\": 3003, \"start_column\": 5, \"end_line\": 3003, \"end_column\": 50, \"file\": \"third_party/googletest/googletest/src/gtest.cc\", \"clang_source_range_as_text\": \"const char* const term = posix::GetEnv(\\\"TERM\\\")\", \"label\": \"const char* const term = posix::GetEnv(\\\"TERM\\\")\"}, {\"start_line\": 4167, \"start_column\": 3, \"end_line\": 4167, \"end_column\": 40, \"file\": \"third_party/googletest/googletest/src/gtest.cc\", \"clang_source_range_as_text\": \"const std::string kIndent = Indent(10)\", \"label\": \"const std::string kIndent = Indent(10)\"}, {\"start_line\": 4274, \"start_column\": 3, \"end_line\": 4274, \"end_column\": 39, \"file\": \"third_party/googletest/googletest/src/gtest.cc\", \"clang_source_range_as_text\": \"const std::string kIndent = Indent(2)\", \"label\": \"const std::string kIndent = Indent(2)\"}, {\"start_line\": 5945, \"start_column\": 33, \"end_line\": 5945, \"end_column\": 51, \"file\": \"third_party/googletest/googletest/src/gtest.cc\", \"clang_source_range_as_text\": \"const char* const arg\", \"label\": \"const char* const arg\"}]</div><p>Results viewable in the find-tune panel.</p>",
      "text/plain": "<IPython.core.display.HTML object>"
     },
     "metadata": {},
     "output_type": "display_data"
    }
   ],
   "source": [
    "(\n",
    "  project\n",
    "    .query()\n",
    "    .variables()\n",
    "    .const()\n",
    "    .make_visualizable()\n",
    "    .used_more_than(\n",
    "      times=10\n",
    "    )\n",
    "    .execute()\n",
    "    .display()\n",
    ")"
   ]
  }
 ],
 "metadata": {
  "kernelspec": {
   "display_name": "Python 2.7.16 64-bit",
   "name": "python_defaultSpec_1598028277284"
  },
  "language_info": {
   "codemirror_mode": {
    "name": "ipython",
    "version": 3
   },
   "file_extension": ".py",
   "mimetype": "text/x-python",
   "name": "python",
   "nbconvert_exporter": "python",
   "pygments_lexer": "ipython3",
   "version": "2.7.16-final"
  },
  "orig_nbformat": 2
 },
 "nbformat": 4,
 "nbformat_minor": 2
}